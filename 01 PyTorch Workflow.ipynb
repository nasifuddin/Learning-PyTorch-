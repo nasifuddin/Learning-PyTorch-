{
 "cells": [
  {
   "cell_type": "markdown",
   "id": "9888074c-7277-4ea4-9854-1b97e9fcac22",
   "metadata": {},
   "source": [
    "# PyTorch Workflow"
   ]
  },
  {
   "cell_type": "code",
   "execution_count": 1,
   "id": "a4c0fcbd-af44-498a-ac7f-c9a45bb99367",
   "metadata": {},
   "outputs": [
    {
     "data": {
      "text/plain": [
       "'2.1.2+cu121'"
      ]
     },
     "execution_count": 1,
     "metadata": {},
     "output_type": "execute_result"
    }
   ],
   "source": [
    "import torch\n",
    "from torch import nn\n",
    "import matplotlib.pyplot as plt\n",
    "\n",
    "#check the PyTorch version\n",
    "torch.__version__"
   ]
  },
  {
   "cell_type": "markdown",
   "id": "007f1446-9cfa-4e72-9518-a00e5eacb917",
   "metadata": {},
   "source": [
    "## Preparing the data"
   ]
  },
  {
   "cell_type": "code",
   "execution_count": 2,
   "id": "a014bf98-3c57-4f21-b061-0e2744d7c096",
   "metadata": {},
   "outputs": [
    {
     "data": {
      "text/plain": [
       "(tensor([0.2000, 0.2200, 0.2400, 0.2600, 0.2800, 0.3000, 0.3200, 0.3400, 0.3600,\n",
       "         0.3800, 0.4000, 0.4200, 0.4400, 0.4600, 0.4800, 0.5000, 0.5200, 0.5400,\n",
       "         0.5600, 0.5800, 0.6000, 0.6200, 0.6400, 0.6600, 0.6800, 0.7000, 0.7200,\n",
       "         0.7400, 0.7600, 0.7800, 0.8000, 0.8200, 0.8400, 0.8600, 0.8800, 0.9000,\n",
       "         0.9200, 0.9400, 0.9600, 0.9800]),\n",
       " tensor([0.4400, 0.4540, 0.4680, 0.4820, 0.4960, 0.5100, 0.5240, 0.5380, 0.5520,\n",
       "         0.5660, 0.5800, 0.5940, 0.6080, 0.6220, 0.6360, 0.6500, 0.6640, 0.6780,\n",
       "         0.6920, 0.7060, 0.7200, 0.7340, 0.7480, 0.7620, 0.7760, 0.7900, 0.8040,\n",
       "         0.8180, 0.8320, 0.8460, 0.8600, 0.8740, 0.8880, 0.9020, 0.9160, 0.9300,\n",
       "         0.9440, 0.9580, 0.9720, 0.9860]))"
      ]
     },
     "execution_count": 2,
     "metadata": {},
     "output_type": "execute_result"
    }
   ],
   "source": [
    "#create the known parameters\n",
    "weight = 0.7 #m\n",
    "bias = 0.3 #c\n",
    "\n",
    "#creating the data\n",
    "start = 0\n",
    "end = 1\n",
    "step = 0.02\n",
    "\n",
    "X = torch.arange(start, end, step)\n",
    "y = weight * X + bias\n",
    "\n",
    "X[10:],  y[10:]"
   ]
  },
  {
   "cell_type": "code",
   "execution_count": 3,
   "id": "44a48e05-fa61-4190-8cb8-723d169346a4",
   "metadata": {},
   "outputs": [
    {
     "data": {
      "text/plain": [
       "(40, 10, 40, 10)"
      ]
     },
     "execution_count": 3,
     "metadata": {},
     "output_type": "execute_result"
    }
   ],
   "source": [
    "#split the data into training and data\n",
    "train = int(0.8 * len(X))\n",
    "X_train, y_train = X[:train], y[:train]\n",
    "X_test, y_test = X[train:], y[train:]\n",
    "\n",
    "len(X_train), len(X_test), len(y_train), len(y_test)"
   ]
  },
  {
   "cell_type": "code",
   "execution_count": 4,
   "id": "7a3899d5-7774-4d83-abb4-0dfef2116309",
   "metadata": {},
   "outputs": [],
   "source": [
    "def plot_predictions(train_data = X_train,\n",
    "                    train_label = y_train,\n",
    "                    test_data = X_test,\n",
    "                    test_label = y_test,\n",
    "                    predictions = None):\n",
    "    \"\"\" Plot training data, test data and compare predictions \"\"\"\n",
    "\n",
    "    plt.figure(figsize = (10,7))\n",
    "    #plotting training data in blue\n",
    "    plt.scatter(train_data, train_label, c='b', s=4, label = 'Training Data')\n",
    "    #plotting test data in green\n",
    "    plt.scatter(test_data, test_label, c='g', s=4, label = 'Test Data')\n",
    "\n",
    "    if predictions is not None:\n",
    "        plt.scatter(test_data, predictions, c='r', s=4, label = 'Predictions')\n",
    "\n",
    "    #Show the legend\n",
    "    plt.legend(prop={\"size\": 14});"
   ]
  },
  {
   "cell_type": "code",
   "execution_count": 5,
   "id": "540f9f3e-2efc-4b42-bad9-95bdeef6edc8",
   "metadata": {},
   "outputs": [
    {
     "data": {
      "image/png": "[encoded data removed]",
      "text/plain": [
       "<Figure size 1000x700 with 1 Axes>"
      ]
     },
     "metadata": {},
     "output_type": "display_data"
    }
   ],
   "source": [
    "plot_predictions();"
   ]
  },
  {
   "cell_type": "markdown",
   "id": "50a304d0-0dbd-45c3-af9c-759235483adf",
   "metadata": {},
   "source": [
    "## Building the model\n",
    "\n",
    "### What our model does:\n",
    "* Start with random values (weight & bias)\n",
    "* Look at the training data and find pattern in the data and adjust the random value to better represent(or get closer to) the ideal values (weight and bias that we used to create the data)\n",
    "\n",
    "### How to do so?\n",
    "\n",
    "Through main algorithms:\n",
    "1. Gradient descent\n",
    "2. Backpropagation"
   ]
  },
  {
   "cell_type": "code",
   "execution_count": 6,
   "id": "01019487-d9f5-414c-abee-02011068fe25",
   "metadata": {},
   "outputs": [],
   "source": [
    "#create a linear regression model class (y = mx+c)\n",
    "class LinearRegressionModel(nn.Module): # <- almost everything in Pytorch inherits from nn.module\n",
    "    def __init__(self): #defining constructor\n",
    "        super().__init__()\n",
    "        #creating weight\n",
    "        self.weights = nn.Parameter(torch.randn(1,\n",
    "                                               requires_grad = True, #by default its true,\n",
    "                                               dtype = torch.float))\n",
    "        self.bias = nn.Parameter(torch.randn(1,\n",
    "                                               requires_grad = True, #by default its true,\n",
    "                                               dtype = torch.float))\n",
    "        #Use forward method to define computation in model\n",
    "    def forward(self, x:torch.Tensor) -> torch.Tensor: #using the x as an input\n",
    "        return self.weights * x + self.bias #linear regression formula\n",
    "        \n",
    "        "
   ]
  },
  {
   "cell_type": "markdown",
   "id": "ce7ba626-5ea7-4adf-999c-7532b3e94208",
   "metadata": {},
   "source": [
    "### PyTorch model building essentials\n",
    "\n",
    "* torch.nn - contains all of the buildings for computational graphs (neural network can be consicdered as a computational graph)\n",
    "* torch.nn.Parameters - defines what parameters our model should try to learn or update, often a PyTorch layer from torch.nn will set this for us\n",
    "* torch.nn.Module - the base class for all neural network modules, if you subclass it, you should overwrite forward ()\n",
    "* torch.optim - this is where all the optimizers in PyTorch lives, they will help with the gradiant descent\n",
    "* def forward() - all nn.Module subclasses require you to overwrite forward function to define the main computation of the model."
   ]
  },
  {
   "cell_type": "code",
   "execution_count": 7,
   "id": "7f7f76cc-be16-4f28-a7a0-de8275b18995",
   "metadata": {},
   "outputs": [
    {
     "data": {
      "text/plain": [
       "[Parameter containing:\n",
       " tensor([0.3367], requires_grad=True),\n",
       " Parameter containing:\n",
       " tensor([0.1288], requires_grad=True)]"
      ]
     },
     "execution_count": 7,
     "metadata": {},
     "output_type": "execute_result"
    }
   ],
   "source": [
    "torch.manual_seed(42)\n",
    "\n",
    "#create an instance of the model\n",
    "model = LinearRegressionModel()\n",
    "\n",
    "#check out the parameters\n",
    "list(model.parameters())"
   ]
  },
  {
   "cell_type": "code",
   "execution_count": 8,
   "id": "b86adb4b-efa6-4927-91e2-29a1528afc3d",
   "metadata": {},
   "outputs": [
    {
     "data": {
      "text/plain": [
       "OrderedDict([('weights', tensor([0.3367])), ('bias', tensor([0.1288]))])"
      ]
     },
     "execution_count": 8,
     "metadata": {},
     "output_type": "execute_result"
    }
   ],
   "source": [
    "model.state_dict()"
   ]
  },
  {
   "cell_type": "markdown",
   "id": "41eceacb-41ff-4444-9e3d-e5c4038abb70",
   "metadata": {},
   "source": [
    "### Making predictions using `torch.inference_mode()`\n",
    "\n",
    "Let's see how well the model predicts `y_test` based on `X_test`"
   ]
  },
  {
   "cell_type": "code",
   "execution_count": 9,
   "id": "1e803a83-859e-43c7-a994-79e192ef20e9",
   "metadata": {},
   "outputs": [
    {
     "data": {
      "text/plain": [
       "tensor([0.8000, 0.8200, 0.8400, 0.8600, 0.8800, 0.9000, 0.9200, 0.9400, 0.9600,\n",
       "        0.9800])"
      ]
     },
     "execution_count": 9,
     "metadata": {},
     "output_type": "execute_result"
    }
   ],
   "source": [
    "X_test"
   ]
  },
  {
   "cell_type": "code",
   "execution_count": 10,
   "id": "17e94c0a-c4fa-4e9b-9a7a-e94d77141e3a",
   "metadata": {},
   "outputs": [
    {
     "data": {
      "text/plain": [
       "tensor([0.3982, 0.4049, 0.4116, 0.4184, 0.4251, 0.4318, 0.4386, 0.4453, 0.4520,\n",
       "        0.4588])"
      ]
     },
     "execution_count": 10,
     "metadata": {},
     "output_type": "execute_result"
    }
   ],
   "source": [
    "#make predictions with model\n",
    "with torch.inference_mode(): #inference mode turn off that gradient tracking, which makes inference faster\n",
    "    y_preds = model(X_test)\n",
    "y_preds"
   ]
  },
  {
   "cell_type": "code",
   "execution_count": 11,
   "id": "0d3288f6-bed8-4582-a88d-44233ab77a83",
   "metadata": {},
   "outputs": [
    {
     "data": {
      "image/png": "[encoded data removed]",
      "text/plain": [
       "<Figure size 1000x700 with 1 Axes>"
      ]
     },
     "metadata": {},
     "output_type": "display_data"
    }
   ],
   "source": [
    "plot_predictions(predictions = y_preds) #without training"
   ]
  },
  {
   "cell_type": "markdown",
   "id": "e9ac123f-8ba7-4b03-a110-60eab2a6b1aa",
   "metadata": {},
   "source": [
    "## Fitting the model to the data(Training)\n",
    "\n",
    "* The whole idea of training a model is to move from some random parameters to some known parameters. Or in other word, poor representation of the data to better representation of the data\n",
    "* We need to understand how poorly our model is performing, that's why we need a loss function/cost function/criterion.\n",
    "\n",
    "*  **Loss Function:** A function that measures how your models are predicting compared to the ideal values, the lower the better.\n",
    "*  **Optimizer:** Takes into account of the loss of the model, and adjust the model parameters\n",
    "\n",
    "Specifically for PyTorch, we need:\n",
    "* A training loop\n",
    "* A testing loop"
   ]
  },
  {
   "cell_type": "code",
   "execution_count": 12,
   "id": "28ac6c34-0224-4051-9eee-40401522a97b",
   "metadata": {},
   "outputs": [],
   "source": [
    "#set up a loss function\n",
    "loss_fn = nn.L1Loss() #using mean absolute error as a loss function\n",
    "\n",
    "#set up an optimizer\n",
    "optimizer = torch.optim.SGD(model.parameters(), #using stochastic gradient descent as optimizer\n",
    "                            lr = 0.01 #lr = learning rate, the most important hyperparameter in the training loop,\n",
    "                           )\n"
   ]
  },
  {
   "cell_type": "markdown",
   "id": "12076d4d-f0c0-4412-b5a9-92934de67de9",
   "metadata": {},
   "source": [
    "### Building a training loop\n",
    "\n",
    "To buid a training loop:\n",
    "1. Loop through the data\n",
    "2. Forward pass, this refers to model's data going through model's forward function, this is called forward propagation.\n",
    "3. Calculate the loss with the loss function\n",
    "4. Optimier zero grad\n",
    "5. Loss backkward - move backwards through the network to calculate gradients of each of the parameters of our model with respect to the loss.\n",
    "6. Optimizer step - use optimizer to improve the loss by adjusting the model parameters (**gradient descent**)"
   ]
  },
  {
   "cell_type": "code",
   "execution_count": 13,
   "id": "3f728869-378c-49a2-ac89-70a752788286",
   "metadata": {
    "scrolled": true
   },
   "outputs": [
    {
     "name": "stdout",
     "output_type": "stream",
     "text": [
      "Loss: 0.31288138031959534\n",
      "Epoch: 0| Loss: 0.31288138031959534| Test_loss: 0.48106518387794495\n",
      "OrderedDict([('weights', tensor([0.3406])), ('bias', tensor([0.1388]))])\n",
      "Loss: 0.3013603389263153\n",
      "Loss: 0.28983935713768005\n",
      "Loss: 0.2783183455467224\n",
      "Loss: 0.26679736375808716\n",
      "Loss: 0.2552763521671295\n",
      "Loss: 0.24375534057617188\n",
      "Loss: 0.23223432898521423\n",
      "Loss: 0.22071333229541779\n",
      "Loss: 0.20919232070446014\n",
      "Loss: 0.1976713240146637\n",
      "Epoch: 10| Loss: 0.1976713240146637| Test_loss: 0.3463551998138428\n",
      "OrderedDict([('weights', tensor([0.3796])), ('bias', tensor([0.2388]))])\n",
      "Loss: 0.18615034222602844\n",
      "Loss: 0.1746293306350708\n",
      "Loss: 0.16310831904411316\n",
      "Loss: 0.1515873372554779\n",
      "Loss: 0.14006635546684265\n",
      "Loss: 0.1285453587770462\n",
      "Loss: 0.11702437698841095\n",
      "Loss: 0.1060912236571312\n",
      "Loss: 0.09681284427642822\n",
      "Loss: 0.08908725529909134\n",
      "Epoch: 20| Loss: 0.08908725529909134| Test_loss: 0.21729660034179688\n",
      "OrderedDict([('weights', tensor([0.4184])), ('bias', tensor([0.3333]))])\n",
      "Loss: 0.08227583020925522\n",
      "Loss: 0.07638873159885406\n",
      "Loss: 0.07160007208585739\n",
      "Loss: 0.06747635453939438\n",
      "Loss: 0.06395438313484192\n",
      "Loss: 0.06097004935145378\n",
      "Loss: 0.05845819041132927\n",
      "Loss: 0.05635259300470352\n",
      "Loss: 0.0545857772231102\n",
      "Loss: 0.053148526698350906\n",
      "Epoch: 30| Loss: 0.053148526698350906| Test_loss: 0.14464017748832703\n",
      "OrderedDict([('weights', tensor([0.4512])), ('bias', tensor([0.3768]))])\n",
      "Loss: 0.05181945487856865\n",
      "Loss: 0.05069301277399063\n",
      "Loss: 0.0498228520154953\n",
      "Loss: 0.04895269125699997\n",
      "Loss: 0.04819351062178612\n",
      "Loss: 0.047531817108392715\n",
      "Loss: 0.04692792519927025\n",
      "Loss: 0.04642331600189209\n",
      "Loss: 0.04591871052980423\n",
      "Loss: 0.04543796554207802\n",
      "Epoch: 40| Loss: 0.04543796554207802| Test_loss: 0.11360953003168106\n",
      "OrderedDict([('weights', tensor([0.4748])), ('bias', tensor([0.3868]))])\n",
      "Loss: 0.04503796249628067\n",
      "Loss: 0.04463795945048332\n",
      "Loss: 0.04423796385526657\n",
      "Loss: 0.04383796453475952\n",
      "Loss: 0.04343796148896217\n",
      "Loss: 0.043074630200862885\n",
      "Loss: 0.04272563382983208\n",
      "Loss: 0.04237663000822067\n",
      "Loss: 0.04202762991189957\n",
      "Loss: 0.04167863354086876\n",
      "Epoch: 50| Loss: 0.04167863354086876| Test_loss: 0.09919948130846024\n",
      "OrderedDict([('weights', tensor([0.4938])), ('bias', tensor([0.3843]))])\n",
      "Loss: 0.04132963344454765\n",
      "Loss: 0.04098063334822655\n",
      "Loss: 0.04063162952661514\n",
      "Loss: 0.040282636880874634\n",
      "Loss: 0.039933640509843826\n",
      "Loss: 0.03958464413881302\n",
      "Loss: 0.03923564404249191\n",
      "Loss: 0.03888664394617081\n",
      "Loss: 0.0385376438498497\n",
      "Loss: 0.03818932920694351\n",
      "Epoch: 60| Loss: 0.03818932920694351| Test_loss: 0.08886633068323135\n",
      "OrderedDict([('weights', tensor([0.5116])), ('bias', tensor([0.3788]))])\n",
      "Loss: 0.03785243630409241\n",
      "Loss: 0.0375034399330616\n",
      "Loss: 0.037164121866226196\n",
      "Loss: 0.03681822493672371\n",
      "Loss: 0.03647511452436447\n",
      "Loss: 0.03613303601741791\n",
      "Loss: 0.03578609973192215\n",
      "Loss: 0.03544783592224121\n",
      "Loss: 0.035098835825920105\n",
      "Loss: 0.03476089984178543\n",
      "Epoch: 70| Loss: 0.03476089984178543| Test_loss: 0.0805937647819519\n",
      "OrderedDict([('weights', tensor([0.5288])), ('bias', tensor([0.3718]))])\n",
      "Loss: 0.03441363573074341\n",
      "Loss: 0.03407188132405281\n",
      "Loss: 0.03372843936085701\n",
      "Loss: 0.03338287025690079\n",
      "Loss: 0.033043231815099716\n",
      "Loss: 0.03269423171877861\n",
      "Loss: 0.032357655465602875\n",
      "Loss: 0.03200903534889221\n",
      "Loss: 0.03166864812374115\n",
      "Loss: 0.03132382780313492\n",
      "Epoch: 80| Loss: 0.03132382780313492| Test_loss: 0.07232122868299484\n",
      "OrderedDict([('weights', tensor([0.5459])), ('bias', tensor([0.3648]))])\n",
      "Loss: 0.030979642644524574\n",
      "Loss: 0.030638623982667923\n",
      "Loss: 0.0302906334400177\n",
      "Loss: 0.029953425750136375\n",
      "Loss: 0.02960442565381527\n",
      "Loss: 0.029265418648719788\n",
      "Loss: 0.028919223695993423\n",
      "Loss: 0.028576409444212914\n",
      "Loss: 0.028234025463461876\n",
      "Loss: 0.02788739837706089\n",
      "Epoch: 90| Loss: 0.02788739837706089| Test_loss: 0.06473556160926819\n",
      "OrderedDict([('weights', tensor([0.5629])), ('bias', tensor([0.3573]))])\n",
      "Loss: 0.02754882536828518\n",
      "Loss: 0.027199819684028625\n",
      "Loss: 0.026862185448408127\n",
      "Loss: 0.02651461586356163\n",
      "Loss: 0.026173178106546402\n",
      "Loss: 0.025829419493675232\n",
      "Loss: 0.02548416517674923\n",
      "Loss: 0.025144213810563087\n",
      "Loss: 0.02479521557688713\n",
      "Loss: 0.024458957836031914\n",
      "Epoch: 100| Loss: 0.024458957836031914| Test_loss: 0.05646304413676262\n",
      "OrderedDict([('weights', tensor([0.5800])), ('bias', tensor([0.3503]))])\n",
      "Loss: 0.024110013619065285\n",
      "Loss: 0.02376994863152504\n",
      "Loss: 0.02342480979859829\n",
      "Loss: 0.023080935701727867\n",
      "Loss: 0.022739607840776443\n",
      "Loss: 0.022391926497220993\n",
      "Loss: 0.022054409608244896\n",
      "Loss: 0.02170540764927864\n",
      "Loss: 0.021366719156503677\n",
      "Loss: 0.021020207554101944\n",
      "Epoch: 110| Loss: 0.021020207554101944| Test_loss: 0.04819049686193466\n",
      "OrderedDict([('weights', tensor([0.5972])), ('bias', tensor([0.3433]))])\n",
      "Loss: 0.020677709951996803\n",
      "Loss: 0.02033500373363495\n",
      "Loss: 0.01998869702219963\n",
      "Loss: 0.019649803638458252\n",
      "Loss: 0.019300809130072594\n",
      "Loss: 0.018963487818837166\n",
      "Loss: 0.01861560344696045\n",
      "Loss: 0.018274478614330292\n",
      "Loss: 0.017930403351783752\n",
      "Loss: 0.01758546568453312\n",
      "Epoch: 120| Loss: 0.01758546568453312| Test_loss: 0.04060482233762741\n",
      "OrderedDict([('weights', tensor([0.6141])), ('bias', tensor([0.3358]))])\n",
      "Loss: 0.017245199531316757\n",
      "Loss: 0.016896454617381096\n",
      "Loss: 0.01656000316143036\n",
      "Loss: 0.016210997477173805\n",
      "Loss: 0.01587124727666378\n",
      "Loss: 0.015525798313319683\n",
      "Loss: 0.015182236209511757\n",
      "Loss: 0.014840595424175262\n",
      "Loss: 0.01449323259294033\n",
      "Loss: 0.014155393466353416\n",
      "Epoch: 130| Loss: 0.014155393466353416| Test_loss: 0.03233227878808975\n",
      "OrderedDict([('weights', tensor([0.6313])), ('bias', tensor([0.3288]))])\n",
      "Loss: 0.013806397095322609\n",
      "Loss: 0.013468016870319843\n",
      "Loss: 0.013121193274855614\n",
      "Loss: 0.01277900766581297\n",
      "Loss: 0.012435992248356342\n",
      "Loss: 0.01208999752998352\n",
      "Loss: 0.011750795878469944\n",
      "Loss: 0.011401787400245667\n",
      "Loss: 0.011064787395298481\n",
      "Loss: 0.010716589167714119\n",
      "Epoch: 140| Loss: 0.010716589167714119| Test_loss: 0.024059748277068138\n",
      "OrderedDict([('weights', tensor([0.6485])), ('bias', tensor([0.3218]))])\n",
      "Loss: 0.010375778190791607\n",
      "Loss: 0.010031387209892273\n",
      "Loss: 0.009686763398349285\n",
      "Loss: 0.009346187114715576\n",
      "Loss: 0.008997755125164986\n",
      "Loss: 0.008660981431603432\n",
      "Loss: 0.008311985060572624\n",
      "Loss: 0.007972544990479946\n",
      "Loss: 0.007626785431057215\n",
      "Loss: 0.0072835334576666355\n",
      "Epoch: 150| Loss: 0.0072835334576666355| Test_loss: 0.016474086791276932\n",
      "OrderedDict([('weights', tensor([0.6654])), ('bias', tensor([0.3143]))])\n",
      "Loss: 0.006941580679267645\n",
      "Loss: 0.006594526115804911\n",
      "Loss: 0.006256377790123224\n",
      "Loss: 0.005907376762479544\n",
      "Loss: 0.005569315515458584\n",
      "Loss: 0.005222178064286709\n",
      "Loss: 0.004880306776612997\n",
      "Loss: 0.004536976106464863\n",
      "Loss: 0.00419129803776741\n",
      "Loss: 0.0038517764769494534\n",
      "Epoch: 160| Loss: 0.0038517764769494534| Test_loss: 0.008201557211577892\n",
      "OrderedDict([('weights', tensor([0.6826])), ('bias', tensor([0.3073]))])\n",
      "Loss: 0.0035027749836444855\n",
      "Loss: 0.0031660839449614286\n",
      "Loss: 0.002817571861669421\n",
      "Loss: 0.0024770735763013363\n",
      "Loss: 0.0021323717664927244\n",
      "Loss: 0.0017880648374557495\n",
      "Loss: 0.0014518328243866563\n",
      "Loss: 0.0011887758737429976\n",
      "Loss: 0.0025885067880153656\n",
      "Loss: 0.008932482451200485\n",
      "Epoch: 170| Loss: 0.008932482451200485| Test_loss: 0.005023092031478882\n",
      "OrderedDict([('weights', tensor([0.6951])), ('bias', tensor([0.2993]))])\n",
      "Loss: 0.0025885067880153656\n",
      "Loss: 0.008932482451200485\n",
      "Loss: 0.0025885067880153656\n",
      "Loss: 0.008932482451200485\n",
      "Loss: 0.0025885067880153656\n",
      "Loss: 0.008932482451200485\n",
      "Loss: 0.0025885067880153656\n",
      "Loss: 0.008932482451200485\n",
      "Loss: 0.0025885067880153656\n",
      "Loss: 0.008932482451200485\n",
      "Epoch: 180| Loss: 0.008932482451200485| Test_loss: 0.005023092031478882\n",
      "OrderedDict([('weights', tensor([0.6951])), ('bias', tensor([0.2993]))])\n",
      "Loss: 0.0025885067880153656\n",
      "Loss: 0.008932482451200485\n",
      "Loss: 0.0025885067880153656\n",
      "Loss: 0.008932482451200485\n",
      "Loss: 0.0025885067880153656\n",
      "Loss: 0.008932482451200485\n",
      "Loss: 0.0025885067880153656\n",
      "Loss: 0.008932482451200485\n",
      "Loss: 0.0025885067880153656\n",
      "Loss: 0.008932482451200485\n",
      "Epoch: 190| Loss: 0.008932482451200485| Test_loss: 0.005023092031478882\n",
      "OrderedDict([('weights', tensor([0.6951])), ('bias', tensor([0.2993]))])\n",
      "Loss: 0.0025885067880153656\n",
      "Loss: 0.008932482451200485\n",
      "Loss: 0.0025885067880153656\n",
      "Loss: 0.008932482451200485\n",
      "Loss: 0.0025885067880153656\n",
      "Loss: 0.008932482451200485\n",
      "Loss: 0.0025885067880153656\n",
      "Loss: 0.008932482451200485\n",
      "Loss: 0.0025885067880153656\n",
      "Loss: 0.008932482451200485\n",
      "Epoch: 200| Loss: 0.008932482451200485| Test_loss: 0.005023092031478882\n",
      "OrderedDict([('weights', tensor([0.6951])), ('bias', tensor([0.2993]))])\n",
      "Loss: 0.0025885067880153656\n",
      "Loss: 0.008932482451200485\n",
      "Loss: 0.0025885067880153656\n",
      "Loss: 0.008932482451200485\n",
      "Loss: 0.0025885067880153656\n",
      "Loss: 0.008932482451200485\n",
      "Loss: 0.0025885067880153656\n",
      "Loss: 0.008932482451200485\n",
      "Loss: 0.0025885067880153656\n",
      "Loss: 0.008932482451200485\n",
      "Epoch: 210| Loss: 0.008932482451200485| Test_loss: 0.005023092031478882\n",
      "OrderedDict([('weights', tensor([0.6951])), ('bias', tensor([0.2993]))])\n",
      "Loss: 0.0025885067880153656\n",
      "Loss: 0.008932482451200485\n",
      "Loss: 0.0025885067880153656\n",
      "Loss: 0.008932482451200485\n",
      "Loss: 0.0025885067880153656\n",
      "Loss: 0.008932482451200485\n",
      "Loss: 0.0025885067880153656\n",
      "Loss: 0.008932482451200485\n",
      "Loss: 0.0025885067880153656\n",
      "Loss: 0.008932482451200485\n",
      "Epoch: 220| Loss: 0.008932482451200485| Test_loss: 0.005023092031478882\n",
      "OrderedDict([('weights', tensor([0.6951])), ('bias', tensor([0.2993]))])\n",
      "Loss: 0.0025885067880153656\n",
      "Loss: 0.008932482451200485\n",
      "Loss: 0.0025885067880153656\n",
      "Loss: 0.008932482451200485\n",
      "Loss: 0.0025885067880153656\n",
      "Loss: 0.008932482451200485\n",
      "Loss: 0.0025885067880153656\n",
      "Loss: 0.008932482451200485\n",
      "Loss: 0.0025885067880153656\n",
      "Loss: 0.008932482451200485\n",
      "Epoch: 230| Loss: 0.008932482451200485| Test_loss: 0.005023092031478882\n",
      "OrderedDict([('weights', tensor([0.6951])), ('bias', tensor([0.2993]))])\n",
      "Loss: 0.0025885067880153656\n",
      "Loss: 0.008932482451200485\n",
      "Loss: 0.0025885067880153656\n",
      "Loss: 0.008932482451200485\n",
      "Loss: 0.0025885067880153656\n",
      "Loss: 0.008932482451200485\n",
      "Loss: 0.0025885067880153656\n",
      "Loss: 0.008932482451200485\n",
      "Loss: 0.0025885067880153656\n",
      "Loss: 0.008932482451200485\n",
      "Epoch: 240| Loss: 0.008932482451200485| Test_loss: 0.005023092031478882\n",
      "OrderedDict([('weights', tensor([0.6951])), ('bias', tensor([0.2993]))])\n",
      "Loss: 0.0025885067880153656\n",
      "Loss: 0.008932482451200485\n",
      "Loss: 0.0025885067880153656\n",
      "Loss: 0.008932482451200485\n",
      "Loss: 0.0025885067880153656\n",
      "Loss: 0.008932482451200485\n",
      "Loss: 0.0025885067880153656\n",
      "Loss: 0.008932482451200485\n",
      "Loss: 0.0025885067880153656\n"
     ]
    }
   ],
   "source": [
    "#Building a training loop\n",
    "\n",
    "#an epoch is one looop through the data\n",
    "epochs = 250\n",
    "\n",
    "#track different values to see model's improvement \n",
    "epoch_count = []\n",
    "loss_values = []\n",
    "test_loss_values = []\n",
    "\n",
    "\n",
    "#loop through the data\n",
    "for epoch in range(epochs):\n",
    "    \n",
    "    #set the model to training mode\n",
    "    model.train() #training mode set every parameter require gradients that require gradients, turs on gradient tracking\n",
    "\n",
    "    #forward pass\n",
    "    y_pred = model(X_train)\n",
    "\n",
    "    #calculate the loss\n",
    "    loss = loss_fn(y_pred, y_train) #input first, target next\n",
    "    print(f\"Loss: {loss}\")\n",
    "    \n",
    "    #optimizer zero grad\n",
    "    optimizer.zero_grad() #sets the optimizer to zero at the start of each loop\n",
    "\n",
    "    #perform backpropagation\n",
    "    loss.backward()\n",
    "\n",
    "    #step the optimizer (perform graddint descent)\n",
    "    optimizer.step() #how the optimizer changes will accumulate through the loop, so we have to zerro them before starting of the nect loop\n",
    "    \n",
    "    model.eval() #turns off setiings that are not needed for testing\n",
    "    with torch.inference_mode():\n",
    "        # 1. do the forward pass\n",
    "        test_pred = model(X_test)\n",
    "\n",
    "        # 2. Calculate the loss\n",
    "        test_loss = loss_fn(test_pred,y_test)\n",
    "        \n",
    "        \n",
    "    if epoch % 10 == 0:\n",
    "        epoch_count.append(epoch)\n",
    "        loss_values.append(loss)\n",
    "        test_loss_values.append(test_loss)\n",
    "        print(f\"Epoch: {epoch}| Loss: {loss}| Test_loss: {test_loss}\")\n",
    "        print(model.state_dict())"
   ]
  },
  {
   "cell_type": "code",
   "execution_count": 14,
   "id": "491c6dcb-6008-4880-a77e-8f9dfff7df1a",
   "metadata": {},
   "outputs": [],
   "source": [
    "with torch.inference_mode():\n",
    "    y_pred_new = model(X_test)"
   ]
  },
  {
   "cell_type": "code",
   "execution_count": 15,
   "id": "c22e235a-9813-4f3e-8d1b-f519afc7ee14",
   "metadata": {},
   "outputs": [
    {
     "data": {
      "image/png": "[encoded data removed]",
      "text/plain": [
       "<Figure size 1000x700 with 1 Axes>"
      ]
     },
     "metadata": {},
     "output_type": "display_data"
    }
   ],
   "source": [
    "plot_predictions(predictions = y_pred_new)"
   ]
  },
  {
   "cell_type": "markdown",
   "id": "1ae9274c-a8c0-481c-aabb-405514b3da3c",
   "metadata": {},
   "source": [
    "## Making predictions and evaluating the model"
   ]
  },
  {
   "cell_type": "code",
   "execution_count": 16,
   "id": "27ae1940-c995-4f08-834e-d8abecbb4fe1",
   "metadata": {},
   "outputs": [
    {
     "data": {
      "text/plain": [
       "[tensor(0.4811),\n",
       " tensor(0.3464),\n",
       " tensor(0.2173),\n",
       " tensor(0.1446),\n",
       " tensor(0.1136),\n",
       " tensor(0.0992),\n",
       " tensor(0.0889),\n",
       " tensor(0.0806),\n",
       " tensor(0.0723),\n",
       " tensor(0.0647),\n",
       " tensor(0.0565),\n",
       " tensor(0.0482),\n",
       " tensor(0.0406),\n",
       " tensor(0.0323),\n",
       " tensor(0.0241),\n",
       " tensor(0.0165),\n",
       " tensor(0.0082),\n",
       " tensor(0.0050),\n",
       " tensor(0.0050),\n",
       " tensor(0.0050),\n",
       " tensor(0.0050),\n",
       " tensor(0.0050),\n",
       " tensor(0.0050),\n",
       " tensor(0.0050),\n",
       " tensor(0.0050)]"
      ]
     },
     "execution_count": 16,
     "metadata": {},
     "output_type": "execute_result"
    }
   ],
   "source": [
    "test_loss_values"
   ]
  },
  {
   "cell_type": "code",
   "execution_count": 17,
   "id": "9a7627b8-1a8b-44bc-af12-1023f826c598",
   "metadata": {},
   "outputs": [
    {
     "data": {
      "image/png": "[encoded data removed]",
      "text/plain": [
       "<Figure size 640x480 with 1 Axes>"
      ]
     },
     "metadata": {},
     "output_type": "display_data"
    }
   ],
   "source": [
    "#plot the loss curves\n",
    "import numpy as np\n",
    "#convert loss_values and test_loss_values to numpy\n",
    "loss_values = np.array(torch.tensor(loss_values).numpy())\n",
    "test_loss_values = np.array(torch.tensor(test_loss_values).numpy())\n",
    "\n",
    "plt.plot(epoch_count, loss_values, label = 'Training Loss')\n",
    "plt.plot(epoch_count, test_loss_values, label = 'Test Loss ')\n",
    "plt.title(\"Training and Test Loss Curve\")\n",
    "plt.xlabel(\"Epochs\")\n",
    "plt.ylabel(\"Loss\")\n",
    "plt.legend();"
   ]
  },
  {
   "cell_type": "markdown",
   "id": "0efb62e6-5d15-44af-880f-7936574c92cc",
   "metadata": {},
   "source": [
    "## Saving and loading the model"
   ]
  },
  {
   "cell_type": "markdown",
   "id": "eee980f0-aaf6-4cf7-b15e-b9a9dd84a652",
   "metadata": {},
   "source": [
    "There are three main method to save and load a model in PyTorch object in Python:\n",
    "\n",
    "1. `torch.save()` - allow's you to save a PyTorch object in Python's pickle format\n",
    "2. `torch.load()` - allow's to load a saved PyTorch object\n",
    "3. `torch.nn.Modeule.load_state_dict()` - this allows to load a model's saved state dictionary"
   ]
  },
  {
   "cell_type": "code",
   "execution_count": 18,
   "id": "d334a04f-2561-4344-b4ca-810aabbeb2d3",
   "metadata": {},
   "outputs": [
    {
     "name": "stdout",
     "output_type": "stream",
     "text": [
      "Saving the model to: models/01_PyTorch_workflow.pth\n"
     ]
    }
   ],
   "source": [
    "#saving the model\n",
    "from pathlib import Path\n",
    "\n",
    "# 1. Create model's directory\n",
    "MODEL_PATH = Path(\"models\")\n",
    "MODEL_PATH.mkdir(parents = True, exist_ok = True)\n",
    "\n",
    "# 2. Create Model Name\n",
    "MODEL_NAME = \"01_PyTorch_workflow.pth\"\n",
    "MODEL_SAVE_PATH = MODEL_PATH / MODEL_NAME\n",
    "\n",
    "#3. Save the model's state dict\n",
    "print(f\"Saving the model to: {MODEL_SAVE_PATH}\")\n",
    "torch.save(obj = model.state_dict(),\n",
    "          f = MODEL_SAVE_PATH)"
   ]
  }
 ],
 "metadata": {
  "kernelspec": {
   "display_name": "Python 3 (ipykernel)",
   "language": "python",
   "name": "python3"
  },
  "language_info": {
   "codemirror_mode": {
    "name": "ipython",
    "version": 3
   },
   "file_extension": ".py",
   "mimetype": "text/x-python",
   "name": "python",
   "nbconvert_exporter": "python",
   "pygments_lexer": "ipython3",
   "version": "3.8.18"
  }
 },
 "nbformat": 4,
 "nbformat_minor": 5
}
