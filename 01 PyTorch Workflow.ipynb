{
 "cells": [
  {
   "cell_type": "markdown",
   "id": "9888074c-7277-4ea4-9854-1b97e9fcac22",
   "metadata": {},
   "source": [
    "# PyTorch Workflow"
   ]
  },
  {
   "cell_type": "code",
   "execution_count": 1,
   "id": "a4c0fcbd-af44-498a-ac7f-c9a45bb99367",
   "metadata": {},
   "outputs": [
    {
     "data": {
      "text/plain": [
       "'2.1.2+cu121'"
      ]
     },
     "execution_count": 1,
     "metadata": {},
     "output_type": "execute_result"
    }
   ],
   "source": [
    "import torch\n",
    "from torch import nn\n",
    "import matplotlib.pyplot as plt\n",
    "\n",
    "#check the PyTorch version\n",
    "torch.__version__"
   ]
  },
  {
   "cell_type": "markdown",
   "id": "007f1446-9cfa-4e72-9518-a00e5eacb917",
   "metadata": {},
   "source": [
    "## Preparing the data"
   ]
  },
  {
   "cell_type": "code",
   "execution_count": 2,
   "id": "a014bf98-3c57-4f21-b061-0e2744d7c096",
   "metadata": {},
   "outputs": [
    {
     "data": {
      "text/plain": [
       "(tensor([0.2000, 0.2200, 0.2400, 0.2600, 0.2800, 0.3000, 0.3200, 0.3400, 0.3600,\n",
       "         0.3800, 0.4000, 0.4200, 0.4400, 0.4600, 0.4800, 0.5000, 0.5200, 0.5400,\n",
       "         0.5600, 0.5800, 0.6000, 0.6200, 0.6400, 0.6600, 0.6800, 0.7000, 0.7200,\n",
       "         0.7400, 0.7600, 0.7800, 0.8000, 0.8200, 0.8400, 0.8600, 0.8800, 0.9000,\n",
       "         0.9200, 0.9400, 0.9600, 0.9800]),\n",
       " tensor([0.4400, 0.4540, 0.4680, 0.4820, 0.4960, 0.5100, 0.5240, 0.5380, 0.5520,\n",
       "         0.5660, 0.5800, 0.5940, 0.6080, 0.6220, 0.6360, 0.6500, 0.6640, 0.6780,\n",
       "         0.6920, 0.7060, 0.7200, 0.7340, 0.7480, 0.7620, 0.7760, 0.7900, 0.8040,\n",
       "         0.8180, 0.8320, 0.8460, 0.8600, 0.8740, 0.8880, 0.9020, 0.9160, 0.9300,\n",
       "         0.9440, 0.9580, 0.9720, 0.9860]))"
      ]
     },
     "execution_count": 2,
     "metadata": {},
     "output_type": "execute_result"
    }
   ],
   "source": [
    "#create the known parameters\n",
    "weight = 0.7 #m\n",
    "bias = 0.3 #c\n",
    "\n",
    "#creating the data\n",
    "start = 0\n",
    "end = 1\n",
    "step = 0.02\n",
    "\n",
    "X = torch.arange(start, end, step)\n",
    "y = weight * X + bias\n",
    "\n",
    "X[10:],  y[10:]"
   ]
  },
  {
   "cell_type": "code",
   "execution_count": 3,
   "id": "44a48e05-fa61-4190-8cb8-723d169346a4",
   "metadata": {},
   "outputs": [
    {
     "data": {
      "text/plain": [
       "(40, 10, 40, 10)"
      ]
     },
     "execution_count": 3,
     "metadata": {},
     "output_type": "execute_result"
    }
   ],
   "source": [
    "#split the data into training and data\n",
    "train = int(0.8 * len(X))\n",
    "X_train, y_train = X[:train], y[:train]\n",
    "X_test, y_test = X[train:], y[train:]\n",
    "\n",
    "len(X_train), len(X_test), len(y_train), len(y_test)"
   ]
  },
  {
   "cell_type": "code",
   "execution_count": 4,
   "id": "7a3899d5-7774-4d83-abb4-0dfef2116309",
   "metadata": {},
   "outputs": [],
   "source": [
    "def plot_predictions(train_data = X_train,\n",
    "                    train_label = y_train,\n",
    "                    test_data = X_test,\n",
    "                    test_label = y_test,\n",
    "                    predictions = None):\n",
    "    \"\"\" Plot training data, test data and compare predictions \"\"\"\n",
    "\n",
    "    plt.figure(figsize = (10,7))\n",
    "    #plotting training data in blue\n",
    "    plt.scatter(train_data, train_label, c='b', s=4, label = 'Training Data')\n",
    "    #plotting test data in green\n",
    "    plt.scatter(test_data, test_label, c='g', s=4, label = 'Test Data')\n",
    "\n",
    "    if predictions is not None:\n",
    "        plt.scatter(test_data, predictions, c='r', s=4, label = 'Predictions')\n",
    "\n",
    "    #Show the legend\n",
    "    plt.legend(prop={\"size\": 14});"
   ]
  },
  {
   "cell_type": "code",
   "execution_count": 5,
   "id": "540f9f3e-2efc-4b42-bad9-95bdeef6edc8",
   "metadata": {},
   "outputs": [
    {
     "data": {
      "image/png": "[encoded data removed]",
      "text/plain": [
       "<Figure size 1000x700 with 1 Axes>"
      ]
     },
     "metadata": {},
     "output_type": "display_data"
    }
   ],
   "source": [
    "plot_predictions();"
   ]
  },
  {
   "cell_type": "markdown",
   "id": "50a304d0-0dbd-45c3-af9c-759235483adf",
   "metadata": {},
   "source": [
    "## Building the model\n",
    "\n",
    "### What our model does:\n",
    "* Start with random values (weight & bias)\n",
    "* Look at the training data and find pattern in the data and adjust the random value to better represent(or get closer to) the ideal values (weight and bias that we used to create the data)\n",
    "\n",
    "### How to do so?\n",
    "\n",
    "Through main algorithms:\n",
    "1. Gradient descent\n",
    "2. Backpropagation"
   ]
  },
  {
   "cell_type": "code",
   "execution_count": 6,
   "id": "01019487-d9f5-414c-abee-02011068fe25",
   "metadata": {},
   "outputs": [],
   "source": [
    "#create a linear regression model class (y = mx+c)\n",
    "class LinearRegressionModel(nn.Module): # <- almost everything in Pytorch inherits from nn.module\n",
    "    def __init__(self): #defining constructor\n",
    "        super().__init__()\n",
    "        #creating weight\n",
    "        self.weights = nn.Parameter(torch.randn(1,\n",
    "                                               requires_grad = True, #by default its true,\n",
    "                                               dtype = torch.float))\n",
    "        self.bias = nn.Parameter(torch.randn(1,\n",
    "                                               requires_grad = True, #by default its true,\n",
    "                                               dtype = torch.float))\n",
    "        #Use forward method to define computation in model\n",
    "    def forward(self, x:torch.Tensor) -> torch.Tensor: #using the x as an input\n",
    "        return self.weights * x + self.bias #linear regression formula\n",
    "        \n",
    "        "
   ]
  },
  {
   "cell_type": "markdown",
   "id": "ce7ba626-5ea7-4adf-999c-7532b3e94208",
   "metadata": {},
   "source": [
    "### PyTorch model building essentials\n",
    "\n",
    "* torch.nn - contains all of the buildings for computational graphs (neural network can be consicdered as a computational graph)\n",
    "* torch.nn.Parameters - defines what parameters our model should try to learn or update, often a PyTorch layer from torch.nn will set this for us\n",
    "* torch.nn.Module - the base class for all neural network modules, if you subclass it, you should overwrite forward ()\n",
    "* torch.optim - this is where all the optimizers in PyTorch lives, they will help with the gradiant descent\n",
    "* def forward() - all nn.Module subclasses require you to overwrite forward function to define the main computation of the model."
   ]
  },
  {
   "cell_type": "code",
   "execution_count": 7,
   "id": "7f7f76cc-be16-4f28-a7a0-de8275b18995",
   "metadata": {},
   "outputs": [
    {
     "data": {
      "text/plain": [
       "[Parameter containing:\n",
       " tensor([0.3367], requires_grad=True),\n",
       " Parameter containing:\n",
       " tensor([0.1288], requires_grad=True)]"
      ]
     },
     "execution_count": 7,
     "metadata": {},
     "output_type": "execute_result"
    }
   ],
   "source": [
    "torch.manual_seed(42)\n",
    "\n",
    "#create an instance of the model\n",
    "model = LinearRegressionModel()\n",
    "\n",
    "#check out the parameters\n",
    "list(model.parameters())"
   ]
  },
  {
   "cell_type": "code",
   "execution_count": 8,
   "id": "b86adb4b-efa6-4927-91e2-29a1528afc3d",
   "metadata": {},
   "outputs": [
    {
     "data": {
      "text/plain": [
       "OrderedDict([('weights', tensor([0.3367])), ('bias', tensor([0.1288]))])"
      ]
     },
     "execution_count": 8,
     "metadata": {},
     "output_type": "execute_result"
    }
   ],
   "source": [
    "model.state_dict()"
   ]
  },
  {
   "cell_type": "markdown",
   "id": "41eceacb-41ff-4444-9e3d-e5c4038abb70",
   "metadata": {},
   "source": [
    "### Making predictions using `torch.inference_mode()`\n",
    "\n",
    "Let's see how well the model predicts `y_test` based on `X_test`"
   ]
  },
  {
   "cell_type": "code",
   "execution_count": 9,
   "id": "1e803a83-859e-43c7-a994-79e192ef20e9",
   "metadata": {},
   "outputs": [
    {
     "data": {
      "text/plain": [
       "tensor([0.8000, 0.8200, 0.8400, 0.8600, 0.8800, 0.9000, 0.9200, 0.9400, 0.9600,\n",
       "        0.9800])"
      ]
     },
     "execution_count": 9,
     "metadata": {},
     "output_type": "execute_result"
    }
   ],
   "source": [
    "X_test"
   ]
  },
  {
   "cell_type": "code",
   "execution_count": 10,
   "id": "17e94c0a-c4fa-4e9b-9a7a-e94d77141e3a",
   "metadata": {},
   "outputs": [
    {
     "data": {
      "text/plain": [
       "tensor([0.3982, 0.4049, 0.4116, 0.4184, 0.4251, 0.4318, 0.4386, 0.4453, 0.4520,\n",
       "        0.4588])"
      ]
     },
     "execution_count": 10,
     "metadata": {},
     "output_type": "execute_result"
    }
   ],
   "source": [
    "#make predictions with model\n",
    "with torch.inference_mode(): #inference mode turn off that gradient tracking, which makes inference faster\n",
    "    y_preds = model(X_test)\n",
    "y_preds"
   ]
  },
  {
   "cell_type": "code",
   "execution_count": 12,
   "id": "0d3288f6-bed8-4582-a88d-44233ab77a83",
   "metadata": {},
   "outputs": [
    {
     "data": {
      "image/png": "[encoded data removed]",
      "text/plain": [
       "<Figure size 1000x700 with 1 Axes>"
      ]
     },
     "metadata": {},
     "output_type": "display_data"
    }
   ],
   "source": [
    "plot_predictions(predictions = y_preds) #without training"
   ]
  },
  {
   "cell_type": "markdown",
   "id": "e9ac123f-8ba7-4b03-a110-60eab2a6b1aa",
   "metadata": {},
   "source": [
    "## Fitting the model to the data(Training)"
   ]
  },
  {
   "cell_type": "code",
   "execution_count": null,
   "id": "28ac6c34-0224-4051-9eee-40401522a97b",
   "metadata": {},
   "outputs": [],
   "source": []
  },
  {
   "cell_type": "code",
   "execution_count": null,
   "id": "3f728869-378c-49a2-ac89-70a752788286",
   "metadata": {},
   "outputs": [],
   "source": []
  },
  {
   "cell_type": "code",
   "execution_count": null,
   "id": "df929515-1bb2-4d7b-82fe-b4ae3fd4f39d",
   "metadata": {},
   "outputs": [],
   "source": []
  },
  {
   "cell_type": "code",
   "execution_count": null,
   "id": "491c6dcb-6008-4880-a77e-8f9dfff7df1a",
   "metadata": {},
   "outputs": [],
   "source": []
  },
  {
   "cell_type": "code",
   "execution_count": null,
   "id": "c22e235a-9813-4f3e-8d1b-f519afc7ee14",
   "metadata": {},
   "outputs": [],
   "source": []
  },
  {
   "cell_type": "markdown",
   "id": "1ae9274c-a8c0-481c-aabb-405514b3da3c",
   "metadata": {},
   "source": [
    "## Making predictions and evaluating the model"
   ]
  },
  {
   "cell_type": "markdown",
   "id": "0efb62e6-5d15-44af-880f-7936574c92cc",
   "metadata": {},
   "source": [
    "## Saving and loading the model"
   ]
  },
  {
   "cell_type": "code",
   "execution_count": null,
   "id": "5a87369d-440c-4dff-87f3-44bd555ad02a",
   "metadata": {},
   "outputs": [],
   "source": []
  }
 ],
 "metadata": {
  "kernelspec": {
   "display_name": "Python 3 (ipykernel)",
   "language": "python",
   "name": "python3"
  },
  "language_info": {
   "codemirror_mode": {
    "name": "ipython",
    "version": 3
   },
   "file_extension": ".py",
   "mimetype": "text/x-python",
   "name": "python",
   "nbconvert_exporter": "python",
   "pygments_lexer": "ipython3",
   "version": "3.8.18"
  }
 },
 "nbformat": 4,
 "nbformat_minor": 5
}
