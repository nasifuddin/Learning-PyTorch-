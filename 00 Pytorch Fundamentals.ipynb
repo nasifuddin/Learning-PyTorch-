{
 "cells": [
  {
   "cell_type": "markdown",
   "id": "2137bb6f-624c-4708-9aed-4802cd0b9e04",
   "metadata": {},
   "source": [
    "## Introduction to Tensor"
   ]
  },
  {
   "cell_type": "code",
   "execution_count": 1,
   "id": "d0f7ea9d-03d3-4b0f-8c8a-ea4ef122a2dc",
   "metadata": {},
   "outputs": [
    {
     "data": {
      "text/plain": [
       "'2.1.2+cu121'"
      ]
     },
     "execution_count": 1,
     "metadata": {},
     "output_type": "execute_result"
    }
   ],
   "source": [
    "#importing PyTorch library\n",
    "import torch\n",
    "\n",
    "#checking PyTorch version\n",
    "torch.__version__"
   ]
  },
  {
   "cell_type": "code",
   "execution_count": 2,
   "id": "e27d588e-c45d-42cb-8a60-8ff6dee73948",
   "metadata": {},
   "outputs": [
    {
     "name": "stdout",
     "output_type": "stream",
     "text": [
      "Tue Feb 20 08:11:26 2024       \n",
      "+---------------------------------------------------------------------------------------+\n",
      "| NVIDIA-SMI 535.54.03              Driver Version: 535.54.03    CUDA Version: 12.2     |\n",
      "|-----------------------------------------+----------------------+----------------------+\n",
      "| GPU  Name                 Persistence-M | Bus-Id        Disp.A | Volatile Uncorr. ECC |\n",
      "| Fan  Temp   Perf          Pwr:Usage/Cap |         Memory-Usage | GPU-Util  Compute M. |\n",
      "|                                         |                      |               MIG M. |\n",
      "|=========================================+======================+======================|\n",
      "|   0  Tesla T4                       Off | 00000000:00:04.0 Off |                    0 |\n",
      "| N/A   49C    P0              26W /  70W |   4850MiB / 15360MiB |      0%      Default |\n",
      "|                                         |                      |                  N/A |\n",
      "+-----------------------------------------+----------------------+----------------------+\n",
      "                                                                                         \n",
      "+---------------------------------------------------------------------------------------+\n",
      "| Processes:                                                                            |\n",
      "|  GPU   GI   CI        PID   Type   Process name                            GPU Memory |\n",
      "|        ID   ID                                                             Usage      |\n",
      "|=======================================================================================|\n",
      "|    0   N/A  N/A    677308      C   ...iniconda3/envs/autolabel/bin/python     4846MiB |\n",
      "+---------------------------------------------------------------------------------------+\n"
     ]
    }
   ],
   "source": [
    "!nvidia-smi"
   ]
  },
  {
   "cell_type": "code",
   "execution_count": 3,
   "id": "84bbdbff-4fc8-492f-8773-6592740f0dd4",
   "metadata": {},
   "outputs": [
    {
     "name": "stdout",
     "output_type": "stream",
     "text": [
      "0 10\n"
     ]
    }
   ],
   "source": [
    "#crating a scaler-turning a single number in tensor\n",
    "scaler = torch.tensor(10)\n",
    "print(scaler.ndim, scaler.item())\n"
   ]
  },
  {
   "cell_type": "code",
   "execution_count": 4,
   "id": "d4c9226a-9977-486a-af2f-a2a1c5c15522",
   "metadata": {},
   "outputs": [
    {
     "data": {
      "text/plain": [
       "tensor(10)"
      ]
     },
     "execution_count": 4,
     "metadata": {},
     "output_type": "execute_result"
    }
   ],
   "source": [
    "#Let's check the scaler\n",
    "scaler"
   ]
  },
  {
   "cell_type": "code",
   "execution_count": 5,
   "id": "30615608-ff43-4a88-8ccc-f359e70e088a",
   "metadata": {},
   "outputs": [],
   "source": [
    "#creating a vector \n",
    "A = [[3,3,3],[3,4,3],[3,5,3]]\n",
    "vector = torch.tensor(A)"
   ]
  },
  {
   "cell_type": "code",
   "execution_count": 6,
   "id": "49cebc0c-d61d-4962-a591-7e6755c817e1",
   "metadata": {},
   "outputs": [
    {
     "name": "stdout",
     "output_type": "stream",
     "text": [
      "2 torch.Size([3, 3])\n"
     ]
    }
   ],
   "source": [
    "#checking the dimension and the vector shape\n",
    "print(vector.ndim, vector.shape)"
   ]
  },
  {
   "cell_type": "code",
   "execution_count": 7,
   "id": "60aaa038-813f-446b-9e86-0ec07fa93beb",
   "metadata": {},
   "outputs": [],
   "source": [
    "#Let's create a tensor\n",
    "TENSOR = torch.tensor([[[1,2,3],\n",
    "                        [2,3,4],\n",
    "                        [3,4,5]]])"
   ]
  },
  {
   "cell_type": "code",
   "execution_count": 8,
   "id": "e0d8d9c7-e20b-46a1-971b-eaf07f462d76",
   "metadata": {},
   "outputs": [
    {
     "name": "stdout",
     "output_type": "stream",
     "text": [
      "3 torch.Size([1, 3, 3])\n"
     ]
    }
   ],
   "source": [
    "print(TENSOR.ndim, TENSOR.shape)"
   ]
  },
  {
   "cell_type": "code",
   "execution_count": 9,
   "id": "69d3b1c6-4dc4-4e5e-aab4-478dc611d794",
   "metadata": {},
   "outputs": [],
   "source": [
    "#To understand the tensor size better, let's create a tensor of 2,3,3\n",
    "\n",
    "T = [[[1,2,3],\n",
    "      [2,3,4],\n",
    "      [3,4,5]],\n",
    "     [[1,2,3],\n",
    "      [2,3,4],\n",
    "      [3,4,5]]]\n",
    "\n",
    "T = torch.tensor(T)"
   ]
  },
  {
   "cell_type": "code",
   "execution_count": 10,
   "id": "5ff8c99d-cb86-4224-b6f0-1e32066aa08f",
   "metadata": {},
   "outputs": [
    {
     "name": "stdout",
     "output_type": "stream",
     "text": [
      "3 torch.Size([2, 3, 3])\n"
     ]
    }
   ],
   "source": [
    "print(T.ndim, T.shape)"
   ]
  },
  {
   "cell_type": "code",
   "execution_count": 11,
   "id": "cae45b8b-187a-4f9d-9f10-10ac44247bbd",
   "metadata": {},
   "outputs": [],
   "source": [
    "#Let's create a random tensor replicating a 224x224px rgb image\n",
    "random_tensor = torch.rand(size = (224,224,3))\n",
    "\n",
    "#similarly try creating tensors with tensor.ones and tensor.zeros"
   ]
  },
  {
   "cell_type": "code",
   "execution_count": 12,
   "id": "b9b3b0da-cdf6-468c-b55e-3bcc42403351",
   "metadata": {
    "scrolled": true
   },
   "outputs": [
    {
     "name": "stdout",
     "output_type": "stream",
     "text": [
      "3 torch.Size([224, 224, 3])\n"
     ]
    }
   ],
   "source": [
    "print(random_tensor.ndim, random_tensor.shape)"
   ]
  },
  {
   "cell_type": "markdown",
   "id": "e963f80e-7543-430b-af85-36aaa76be223",
   "metadata": {},
   "source": [
    "## Tensor Datatypes"
   ]
  },
  {
   "cell_type": "code",
   "execution_count": 13,
   "id": "8dc8ba04-18e2-4026-9347-55c81e0acb95",
   "metadata": {},
   "outputs": [
    {
     "data": {
      "text/plain": [
       "(torch.Size([3]), torch.float32, device(type='cpu'))"
      ]
     },
     "execution_count": 13,
     "metadata": {},
     "output_type": "execute_result"
    }
   ],
   "source": [
    "#default data type for tensors are float32\n",
    "f32 = torch.tensor([3.0, 6.0, 9.0],\n",
    "                  dtype = None, #defaults to None which is float32\n",
    "                  device = None, #defaults to None which is default tensor type\n",
    "                  requires_grad = False) #if True, operations performed will be recorded\n",
    "f32.shape, f32.dtype, f32.device"
   ]
  },
  {
   "cell_type": "code",
   "execution_count": 14,
   "id": "d4aaabf5-93ed-4002-aca6-bb6eede37341",
   "metadata": {},
   "outputs": [
    {
     "data": {
      "text/plain": [
       "(torch.Size([3]), torch.float16, device(type='cpu'))"
      ]
     },
     "execution_count": 14,
     "metadata": {},
     "output_type": "execute_result"
    }
   ],
   "source": [
    "#let's try float16\n",
    "f16 = torch.tensor([3.0, 6.0, 9.0],\n",
    "                  dtype = torch.float16)\n",
    "f16.shape, f16.dtype, f16.device"
   ]
  },
  {
   "cell_type": "code",
   "execution_count": 15,
   "id": "da2673c8-ffab-46c7-b197-fca973c522a9",
   "metadata": {},
   "outputs": [
    {
     "data": {
      "text/plain": [
       "(torch.Size([3]), torch.int32)"
      ]
     },
     "execution_count": 15,
     "metadata": {},
     "output_type": "execute_result"
    }
   ],
   "source": [
    "#let's try 32 bit interger\n",
    "int32 = torch.tensor([3, 6, 9],\n",
    "                    dtype = torch.int32)\n",
    "int32.shape, int32.dtype"
   ]
  },
  {
   "cell_type": "markdown",
   "id": "3d7a71d1-f41c-4b66-9aab-ff4ef1791773",
   "metadata": {},
   "source": [
    "## Manipulating tensors"
   ]
  },
  {
   "cell_type": "markdown",
   "id": "e1138151-c506-432b-94b2-13a1ff521921",
   "metadata": {},
   "source": [
    "### Basic Operations"
   ]
  },
  {
   "cell_type": "code",
   "execution_count": 16,
   "id": "501f73a7-0dc8-463c-9989-b70c249a6d82",
   "metadata": {},
   "outputs": [
    {
     "data": {
      "text/plain": [
       "tensor([11, 12, 13])"
      ]
     },
     "execution_count": 16,
     "metadata": {},
     "output_type": "execute_result"
    }
   ],
   "source": [
    "tensor = torch.tensor([1,2,3])\n",
    "tensor + 10 # perofrming addition"
   ]
  },
  {
   "cell_type": "code",
   "execution_count": 17,
   "id": "7b8632fb-1b98-42d2-8ce4-247166076147",
   "metadata": {},
   "outputs": [
    {
     "data": {
      "text/plain": [
       "tensor([20, 40, 60])"
      ]
     },
     "execution_count": 17,
     "metadata": {},
     "output_type": "execute_result"
    }
   ],
   "source": [
    "tensor * 20 # performing multiplication"
   ]
  },
  {
   "cell_type": "code",
   "execution_count": 18,
   "id": "9b3d8951-635c-4b47-aeea-df5f121de35a",
   "metadata": {},
   "outputs": [
    {
     "data": {
      "text/plain": [
       "tensor([-9, -8, -7])"
      ]
     },
     "execution_count": 18,
     "metadata": {},
     "output_type": "execute_result"
    }
   ],
   "source": [
    "tensor - 10 #performing substraction"
   ]
  },
  {
   "cell_type": "code",
   "execution_count": 19,
   "id": "27ff17f7-82d7-4adf-8a2b-ae9f2b5ded4a",
   "metadata": {},
   "outputs": [
    {
     "data": {
      "text/plain": [
       "(tensor([101, 102, 103]), tensor([190, 380, 570]), tensor([-9, -8, -7]))"
      ]
     },
     "execution_count": 19,
     "metadata": {},
     "output_type": "execute_result"
    }
   ],
   "source": [
    "#we can also use pytorch functions to do the basic operations\n",
    "torch.add(tensor,100), torch.mul(tensor,190), torch.sub(tensor, 10)"
   ]
  },
  {
   "cell_type": "markdown",
   "id": "d18d3aa4-4e16-4559-89dc-090cbf409cd2",
   "metadata": {},
   "source": [
    "### Matrix Opertations"
   ]
  },
  {
   "cell_type": "code",
   "execution_count": 20,
   "id": "3f70aaf1-8d1d-45c7-a759-543e85282dc7",
   "metadata": {},
   "outputs": [
    {
     "data": {
      "text/plain": [
       "torch.Size([3])"
      ]
     },
     "execution_count": 20,
     "metadata": {},
     "output_type": "execute_result"
    }
   ],
   "source": [
    "tensor = torch.tensor([1,2,3])\n",
    "tensor.shape"
   ]
  },
  {
   "cell_type": "code",
   "execution_count": 21,
   "id": "3e5ab5bf-6968-4bce-9044-aa55ff80a5c3",
   "metadata": {},
   "outputs": [
    {
     "data": {
      "text/plain": [
       "tensor(14)"
      ]
     },
     "execution_count": 21,
     "metadata": {},
     "output_type": "execute_result"
    }
   ],
   "source": [
    "torch.matmul(tensor,tensor) # you can also use torch.mm"
   ]
  },
  {
   "cell_type": "code",
   "execution_count": 22,
   "id": "c765f737-a1f4-431f-adcc-c86326b8eeaa",
   "metadata": {},
   "outputs": [
    {
     "data": {
      "text/plain": [
       "(torch.Size([3, 2]), torch.Size([3, 2]))"
      ]
     },
     "execution_count": 22,
     "metadata": {},
     "output_type": "execute_result"
    }
   ],
   "source": [
    "#let's try to multiple two 2x3 matrices\n",
    "A = torch.tensor([[1.,2.],[3.,4.],[5.,6.]])\n",
    "B = torch.tensor([[7.,8.],[9.,10.],[11.,12.]])\n",
    "\n",
    "A.shape, B.shape"
   ]
  },
  {
   "cell_type": "code",
   "execution_count": 23,
   "id": "07f2916f-4a5b-46ad-ad19-575ba4a403ae",
   "metadata": {},
   "outputs": [
    {
     "data": {
      "text/plain": [
       "torch.Size([2, 3])"
      ]
     },
     "execution_count": 23,
     "metadata": {},
     "output_type": "execute_result"
    }
   ],
   "source": [
    "#since we have to match the dimension of the both matrices, let's tranpose B matrix\n",
    "B = B.T #transposing\n",
    "B.shape"
   ]
  },
  {
   "cell_type": "code",
   "execution_count": 24,
   "id": "14251812-9c1f-47ac-9831-200dfadb81e9",
   "metadata": {},
   "outputs": [
    {
     "data": {
      "text/plain": [
       "tensor([[ 23.,  29.,  35.],\n",
       "        [ 53.,  67.,  81.],\n",
       "        [ 83., 105., 127.]])"
      ]
     },
     "execution_count": 24,
     "metadata": {},
     "output_type": "execute_result"
    }
   ],
   "source": [
    "torch.matmul(A,B)"
   ]
  },
  {
   "cell_type": "code",
   "execution_count": 25,
   "id": "edfcd0af-1b8a-45c6-9d35-f236b85e5a0c",
   "metadata": {},
   "outputs": [
    {
     "name": "stdout",
     "output_type": "stream",
     "text": [
      "Input Shape: torch.Size([3, 2])\n",
      "\n",
      "Output: \n",
      "tensor([[ 1.7130, -0.1709,  1.8916,  0.7133, -0.2846, -0.3515,  2.4703],\n",
      "        [ 3.1273,  0.1886,  3.7371,  1.4041, -0.9198, -0.5562,  4.7118],\n",
      "        [ 4.5416,  0.5481,  5.5826,  2.0948, -1.5549, -0.7609,  6.9533]],\n",
      "       grad_fn=<AddmmBackward0>)\n",
      "\n",
      " Output Shape: torch.Size([3, 7])\n",
      "\n",
      "Input Shape: torch.Size([2, 3])\n",
      "\n",
      "Output: \n",
      "tensor([[ 1.9330,  2.5215, -0.6437, -3.9059, -0.6372,  0.4421, -1.4086],\n",
      "        [ 2.7921,  3.1062, -0.3128, -5.1077, -0.8323,  0.2672, -1.5125]],\n",
      "       grad_fn=<AddmmBackward0>)\n",
      "\n",
      " Output Shape: torch.Size([2, 7])\n"
     ]
    }
   ],
   "source": [
    "torch.manual_seed(52) #placing seed for generating random numbers as weights\n",
    "\n",
    "# Lets use a torch input layer which uses a linear equation\n",
    "linear = torch.nn.Linear(in_features = 2, out_features = 7) #in feature has to atch the inner dimension of the input\n",
    "x = A\n",
    "output = linear(x)\n",
    "print(f\"Input Shape: {x.shape}\\n\")\n",
    "print(f\"Output: \\n{output}\\n\\n Output Shape: {output.shape}\")\n",
    "\n",
    "\"\"\" for the torch.nn.Linear function, we need to match the inner dimension of input with in_features attribute.\n",
    "    So, if we change the in_features from 2 to 3, we will face error. To solve this error, we can transpose the\n",
    "    input to match with in_features \"\"\"\n",
    "\n",
    "linear = torch.nn.Linear(in_features = 3, out_features = 7) #in feature has to atch the inner dimension of the input\n",
    "y = A.T\n",
    "output = linear(y)\n",
    "print(f\"\\nInput Shape: {y.shape}\\n\")\n",
    "print(f\"Output: \\n{output}\\n\\n Output Shape: {output.shape}\")"
   ]
  },
  {
   "cell_type": "markdown",
   "id": "2d80affb-3e9d-45bd-b370-1f3d4fda6a20",
   "metadata": {},
   "source": [
    "## Finding the min, max, mean, sum, etc (aggregation)"
   ]
  },
  {
   "cell_type": "code",
   "execution_count": 26,
   "id": "f4038b38-8570-4e5c-8379-25fdd1c70d6c",
   "metadata": {},
   "outputs": [
    {
     "data": {
      "text/plain": [
       "tensor([ 0, 10, 20, 30, 40, 50, 60, 70, 80, 90])"
      ]
     },
     "execution_count": 26,
     "metadata": {},
     "output_type": "execute_result"
    }
   ],
   "source": [
    "#creating a tensor\n",
    "x = torch.arange(0, 100, 10)\n",
    "x"
   ]
  },
  {
   "cell_type": "code",
   "execution_count": 27,
   "id": "7802a7c1-c378-4a58-a18a-e2c0eac91c12",
   "metadata": {},
   "outputs": [
    {
     "name": "stdout",
     "output_type": "stream",
     "text": [
      "Min : 0\n",
      "\n",
      "Min : 90\n",
      "\n",
      "Mean : 45.0\n",
      "\n",
      "Sum : 450\n",
      "\n"
     ]
    }
   ],
   "source": [
    "print(f\"Min : {x.min()}\\n\")\n",
    "print(f\"Min : {x.max()}\\n\")\n",
    "print(f\"Mean : {x.type(torch.float32).mean()}\\n\") #mean doesn't work without converting to float32 datatype\n",
    "print(f\"Sum : {x.sum()}\\n\")"
   ]
  },
  {
   "cell_type": "code",
   "execution_count": 28,
   "id": "de44ab54-374a-46d3-960f-337da2cd94bd",
   "metadata": {},
   "outputs": [
    {
     "name": "stdout",
     "output_type": "stream",
     "text": [
      "Index where max value occurs: 9\n",
      "Index where min value occurs: 0\n"
     ]
    }
   ],
   "source": [
    "'''You can also find the index of the element where max or min value occurs'''\n",
    "\n",
    "print(f\"Index where max value occurs: {x.argmax()}\")\n",
    "print(f\"Index where min value occurs: {x.argmin()}\")"
   ]
  },
  {
   "cell_type": "markdown",
   "id": "681e5984-c474-4c33-bf31-f06b5ca5b183",
   "metadata": {},
   "source": [
    "## Change tensor datatype"
   ]
  },
  {
   "cell_type": "code",
   "execution_count": 29,
   "id": "f6577a6b-479a-42fa-8eb1-4ff2020b737f",
   "metadata": {},
   "outputs": [
    {
     "name": "stdout",
     "output_type": "stream",
     "text": [
      "The datatype of the tensor is: torch.int64\n",
      "\n"
     ]
    }
   ],
   "source": [
    "#Let's check the data type of the tensor we created earlier\n",
    "print(f\"The datatype of the tensor is: {x.dtype}\\n\")"
   ]
  },
  {
   "cell_type": "code",
   "execution_count": 30,
   "id": "d592f47f-f62b-48b1-b0c5-184d36e404a2",
   "metadata": {},
   "outputs": [
    {
     "name": "stdout",
     "output_type": "stream",
     "text": [
      "Datatype: torch.float32\n",
      "Datatype: torch.float16\n"
     ]
    }
   ],
   "source": [
    "#Let's change it to float32 first and float16 afterwards\n",
    "x = x.type(torch.float32)\n",
    "print(f\"Datatype: {x.dtype}\")\n",
    "\n",
    "x = x.type(torch.float16)\n",
    "print(f\"Datatype: {x.dtype}\")"
   ]
  },
  {
   "cell_type": "code",
   "execution_count": 31,
   "id": "b418c56b-ad52-40fe-baf0-af115710e050",
   "metadata": {},
   "outputs": [
    {
     "name": "stdout",
     "output_type": "stream",
     "text": [
      "Datatype: torch.int8\n"
     ]
    }
   ],
   "source": [
    "#create int8 datatype\n",
    "x = x.type(torch.int8)\n",
    "print(f\"Datatype: {x.dtype}\")"
   ]
  },
  {
   "cell_type": "markdown",
   "id": "28619d78-a630-4c0a-af0a-4bb3140adc3b",
   "metadata": {},
   "source": [
    "## Reshaping"
   ]
  },
  {
   "cell_type": "code",
   "execution_count": 32,
   "id": "33570f51-3e45-4fb0-929b-a12e29b545dc",
   "metadata": {},
   "outputs": [
    {
     "data": {
      "text/plain": [
       "torch.Size([10])"
      ]
     },
     "execution_count": 32,
     "metadata": {},
     "output_type": "execute_result"
    }
   ],
   "source": [
    "x.shape"
   ]
  },
  {
   "cell_type": "code",
   "execution_count": 33,
   "id": "a8b54bd8-5539-4b23-86f4-0ca1a824495c",
   "metadata": {},
   "outputs": [
    {
     "data": {
      "text/plain": [
       "torch.Size([1, 10])"
      ]
     },
     "execution_count": 33,
     "metadata": {},
     "output_type": "execute_result"
    }
   ],
   "source": [
    "#let's reshape this \n",
    "x = x.reshape(1,10)\n",
    "x.shape"
   ]
  },
  {
   "cell_type": "markdown",
   "id": "ac31c236-5cf7-4e82-bde1-6ff429868a38",
   "metadata": {},
   "source": [
    "## Stacking Tensors"
   ]
  },
  {
   "cell_type": "code",
   "execution_count": 50,
   "id": "1a286048-aa3a-4b92-b1f2-a62bb9a8a044",
   "metadata": {},
   "outputs": [
    {
     "data": {
      "text/plain": [
       "(tensor([[[ 0, 10, 20, 30, 40, 50, 60, 70, 80, 90]],\n",
       " \n",
       "         [[ 0, 10, 20, 30, 40, 50, 60, 70, 80, 90]],\n",
       " \n",
       "         [[ 0, 10, 20, 30, 40, 50, 60, 70, 80, 90]],\n",
       " \n",
       "         [[ 0, 10, 20, 30, 40, 50, 60, 70, 80, 90]],\n",
       " \n",
       "         [[ 0, 10, 20, 30, 40, 50, 60, 70, 80, 90]]], dtype=torch.int8),\n",
       " torch.Size([5, 1, 10]))"
      ]
     },
     "execution_count": 50,
     "metadata": {},
     "output_type": "execute_result"
    }
   ],
   "source": [
    "#Let's stack the x tensor 5 times with dimension 0\n",
    "x_stacked_0 = torch.stack([x,x,x,x,x],dim=0)\n",
    "x_stacked_0, x_stacked_0.shape"
   ]
  },
  {
   "cell_type": "code",
   "execution_count": 51,
   "id": "b70e1492-0124-4673-8d1b-a3c680b952bb",
   "metadata": {},
   "outputs": [
    {
     "data": {
      "text/plain": [
       "(tensor([[[ 0, 10, 20, 30, 40, 50, 60, 70, 80, 90],\n",
       "          [ 0, 10, 20, 30, 40, 50, 60, 70, 80, 90],\n",
       "          [ 0, 10, 20, 30, 40, 50, 60, 70, 80, 90],\n",
       "          [ 0, 10, 20, 30, 40, 50, 60, 70, 80, 90],\n",
       "          [ 0, 10, 20, 30, 40, 50, 60, 70, 80, 90]]], dtype=torch.int8),\n",
       " torch.Size([1, 5, 10]))"
      ]
     },
     "execution_count": 51,
     "metadata": {},
     "output_type": "execute_result"
    }
   ],
   "source": [
    "x_stacked_1 = torch.stack([x,x,x,x,x],dim=1)\n",
    "x_stacked_1, x_stacked_1.shape"
   ]
  },
  {
   "cell_type": "code",
   "execution_count": 52,
   "id": "aec7da97-76f9-40a3-9b04-ad41d5827e6a",
   "metadata": {},
   "outputs": [
    {
     "data": {
      "text/plain": [
       "(tensor([[[ 0,  0,  0,  0,  0],\n",
       "          [10, 10, 10, 10, 10],\n",
       "          [20, 20, 20, 20, 20],\n",
       "          [30, 30, 30, 30, 30],\n",
       "          [40, 40, 40, 40, 40],\n",
       "          [50, 50, 50, 50, 50],\n",
       "          [60, 60, 60, 60, 60],\n",
       "          [70, 70, 70, 70, 70],\n",
       "          [80, 80, 80, 80, 80],\n",
       "          [90, 90, 90, 90, 90]]], dtype=torch.int8),\n",
       " torch.Size([1, 10, 5]))"
      ]
     },
     "execution_count": 52,
     "metadata": {},
     "output_type": "execute_result"
    }
   ],
   "source": [
    "x_stacked_2 = torch.stack([x,x,x,x,x],dim=2)\n",
    "x_stacked_2, x_stacked_2.shape"
   ]
  },
  {
   "cell_type": "code",
   "execution_count": 42,
   "id": "196dcac3-e206-49f3-9225-f75fc73d0b24",
   "metadata": {},
   "outputs": [
    {
     "data": {
      "text/plain": [
       "tensor([[ 0, 10, 20, 30, 40, 50, 60, 70, 80, 90]], dtype=torch.int8)"
      ]
     },
     "execution_count": 42,
     "metadata": {},
     "output_type": "execute_result"
    }
   ],
   "source": [
    "x"
   ]
  },
  {
   "cell_type": "code",
   "execution_count": 55,
   "id": "a757c0a5-adab-4edf-ae21-6acd4a8b70fd",
   "metadata": {},
   "outputs": [
    {
     "data": {
      "text/plain": [
       "(tensor([[ 0,  0,  0,  0,  0],\n",
       "         [10, 10, 10, 10, 10],\n",
       "         [20, 20, 20, 20, 20],\n",
       "         [30, 30, 30, 30, 30],\n",
       "         [40, 40, 40, 40, 40],\n",
       "         [50, 50, 50, 50, 50],\n",
       "         [60, 60, 60, 60, 60],\n",
       "         [70, 70, 70, 70, 70],\n",
       "         [80, 80, 80, 80, 80],\n",
       "         [90, 90, 90, 90, 90]], dtype=torch.int8),\n",
       " torch.Size([10, 5]))"
      ]
     },
     "execution_count": 55,
     "metadata": {},
     "output_type": "execute_result"
    }
   ],
   "source": [
    "#let's squeeze the size of the tensor\n",
    "x_squeeze = x_stacked_2.squeeze()\n",
    "x_squeeze, x_squeeze.shape"
   ]
  },
  {
   "cell_type": "code",
   "execution_count": 56,
   "id": "b538dcb8-d420-433a-9a5c-961d82e9989e",
   "metadata": {},
   "outputs": [
    {
     "data": {
      "text/plain": [
       "(tensor([[[ 0,  0,  0,  0,  0],\n",
       "          [10, 10, 10, 10, 10],\n",
       "          [20, 20, 20, 20, 20],\n",
       "          [30, 30, 30, 30, 30],\n",
       "          [40, 40, 40, 40, 40],\n",
       "          [50, 50, 50, 50, 50],\n",
       "          [60, 60, 60, 60, 60],\n",
       "          [70, 70, 70, 70, 70],\n",
       "          [80, 80, 80, 80, 80],\n",
       "          [90, 90, 90, 90, 90]]], dtype=torch.int8),\n",
       " torch.Size([1, 10, 5]))"
      ]
     },
     "execution_count": 56,
     "metadata": {},
     "output_type": "execute_result"
    }
   ],
   "source": [
    "#let's unsqueeze the tensor\n",
    "x_unsqueeze = x_squeeze.unsqueeze(dim = 0) # add an extra dimension with dim 0\n",
    "x_unsqueeze, x_unsqueeze.shape"
   ]
  },
  {
   "cell_type": "code",
   "execution_count": 57,
   "id": "e9c40bf6-f619-4504-98f0-0566b55711c4",
   "metadata": {},
   "outputs": [
    {
     "data": {
      "text/plain": [
       "(tensor([[[ 0,  0,  0,  0,  0]],\n",
       " \n",
       "         [[10, 10, 10, 10, 10]],\n",
       " \n",
       "         [[20, 20, 20, 20, 20]],\n",
       " \n",
       "         [[30, 30, 30, 30, 30]],\n",
       " \n",
       "         [[40, 40, 40, 40, 40]],\n",
       " \n",
       "         [[50, 50, 50, 50, 50]],\n",
       " \n",
       "         [[60, 60, 60, 60, 60]],\n",
       " \n",
       "         [[70, 70, 70, 70, 70]],\n",
       " \n",
       "         [[80, 80, 80, 80, 80]],\n",
       " \n",
       "         [[90, 90, 90, 90, 90]]], dtype=torch.int8),\n",
       " torch.Size([10, 1, 5]))"
      ]
     },
     "execution_count": 57,
     "metadata": {},
     "output_type": "execute_result"
    }
   ],
   "source": [
    "# let's take the x_unsqueeze and change its dimension using torch.permute\n",
    "x_permuted = x_unsqueeze.permute(1,0,2)\n",
    "x_permuted, x_permuted.shape"
   ]
  },
  {
   "cell_type": "markdown",
   "id": "892b4025-b914-472d-9212-9290911b88c2",
   "metadata": {},
   "source": [
    "## Indexing from Tensors"
   ]
  },
  {
   "cell_type": "code",
   "execution_count": 60,
   "id": "33a032c5-9e54-419c-aa51-4c37f7d49e74",
   "metadata": {},
   "outputs": [
    {
     "data": {
      "text/plain": [
       "(tensor([[0, 0, 0, 0, 0]], dtype=torch.int8),\n",
       " tensor([0, 0, 0, 0, 0], dtype=torch.int8),\n",
       " tensor(0, dtype=torch.int8))"
      ]
     },
     "execution_count": 60,
     "metadata": {},
     "output_type": "execute_result"
    }
   ],
   "source": [
    "#choosing all the elements from the first bracket, second bracket and third bracket\n",
    "x_permuted[0],x_permuted[0][0],x_permuted[0][0][0]"
   ]
  },
  {
   "cell_type": "markdown",
   "id": "77ccd128-f1f1-468c-b410-47988afc9caa",
   "metadata": {},
   "source": [
    "## Pytorch Tensors with NumPy"
   ]
  },
  {
   "cell_type": "code",
   "execution_count": 3,
   "id": "40257ba7-43bf-4b85-9164-c2c9b4fe87a1",
   "metadata": {},
   "outputs": [
    {
     "data": {
      "text/plain": [
       "(array([1., 2., 3., 4., 5., 6., 7.]),\n",
       " tensor([1., 2., 3., 4., 5., 6., 7.], dtype=torch.float64))"
      ]
     },
     "execution_count": 3,
     "metadata": {},
     "output_type": "execute_result"
    }
   ],
   "source": [
    "#converting numpy array to tensor\n",
    "import torch\n",
    "import numpy as np\n",
    "array = np.arange(1.0,8.0)\n",
    "tensor = torch.from_numpy(array)\n",
    "array, tensor"
   ]
  },
  {
   "cell_type": "code",
   "execution_count": 67,
   "id": "0f68e1bc-a325-4213-b762-a147cd1dd259",
   "metadata": {},
   "outputs": [
    {
     "data": {
      "text/plain": [
       "(tensor([1., 2., 3., 4., 5., 6., 7.]), torch.float32)"
      ]
     },
     "execution_count": 67,
     "metadata": {},
     "output_type": "execute_result"
    }
   ],
   "source": [
    "#let's try to convert the float64 to float32 which is the default dtype of Pytprch\n",
    "tensor = torch.from_numpy(array).type(torch.float32)\n",
    "tensor, tensor.dtype"
   ]
  },
  {
   "cell_type": "code",
   "execution_count": 5,
   "id": "8723d792-dd4c-4734-be44-eb42f9c1c09c",
   "metadata": {},
   "outputs": [
    {
     "data": {
      "text/plain": [
       "dtype('float64')"
      ]
     },
     "execution_count": 5,
     "metadata": {},
     "output_type": "execute_result"
    }
   ],
   "source": [
    "#convert tensor to numpy array\n",
    "tensor = torch.Tensor.numpy(tensor)\n",
    "tensor.dtype"
   ]
  },
  {
   "cell_type": "markdown",
   "id": "41d6c2d5-f3c1-44e8-b96f-40342bcb95e3",
   "metadata": {},
   "source": [
    "## Creating two equal random tensors"
   ]
  },
  {
   "cell_type": "code",
   "execution_count": 7,
   "id": "edb7578f-cc75-46f5-8891-9acde696ec01",
   "metadata": {},
   "outputs": [
    {
     "data": {
      "text/plain": [
       "tensor([[True, True, True, True],\n",
       "        [True, True, True, True],\n",
       "        [True, True, True, True]])"
      ]
     },
     "execution_count": 7,
     "metadata": {},
     "output_type": "execute_result"
    }
   ],
   "source": [
    "import torch\n",
    "import random\n",
    "\n",
    "#set random seed\n",
    "RANDOM_SEED = 42\n",
    "torch.manual_seed(seed=RANDOM_SEED)\n",
    "random_tensor_A = torch.rand(3,4)\n",
    "\n",
    "torch.manual_seed(seed=RANDOM_SEED) #if seed is not declared before initiating a new tensor, tensors would be different.\n",
    "random_tensor_B = torch.rand(3,4)\n",
    "\n",
    "#checking whether they are equal\n",
    "random_tensor_A == random_tensor_B"
   ]
  },
  {
   "cell_type": "markdown",
   "id": "bf1f883b-d313-4c5c-988f-54ce9e910348",
   "metadata": {},
   "source": [
    "## Running tensors on GPU"
   ]
  },
  {
   "cell_type": "code",
   "execution_count": 8,
   "id": "771416e5-aad2-4539-a73c-2958cc1ed7e5",
   "metadata": {},
   "outputs": [
    {
     "data": {
      "text/plain": [
       "True"
      ]
     },
     "execution_count": 8,
     "metadata": {},
     "output_type": "execute_result"
    }
   ],
   "source": [
    "import torch\n",
    "torch.cuda.is_available()"
   ]
  },
  {
   "cell_type": "code",
   "execution_count": 14,
   "id": "d400e110-7547-4fee-81ef-894b03b96098",
   "metadata": {},
   "outputs": [
    {
     "data": {
      "text/plain": [
       "'cuda'"
      ]
     },
     "execution_count": 14,
     "metadata": {},
     "output_type": "execute_result"
    }
   ],
   "source": [
    "#create a device to store what kind of device is available to us\n",
    "device = \"cuda\" if torch.cuda.is_available() else \"cpu\"\n",
    "device"
   ]
  },
  {
   "cell_type": "code",
   "execution_count": 11,
   "id": "9bfff886-1ea9-404d-b9ba-4db1fee2d1b5",
   "metadata": {},
   "outputs": [
    {
     "data": {
      "text/plain": [
       "1"
      ]
     },
     "execution_count": 11,
     "metadata": {},
     "output_type": "execute_result"
    }
   ],
   "source": [
    "#chck how many devices are available\n",
    "torch.cuda.device_count()"
   ]
  },
  {
   "cell_type": "code",
   "execution_count": 15,
   "id": "fec9b361-07e3-4f9d-9f61-6a7755c077ae",
   "metadata": {},
   "outputs": [
    {
     "name": "stdout",
     "output_type": "stream",
     "text": [
      "tensor([[0.1053, 0.2695, 0.3588],\n",
      "        [0.1994, 0.5472, 0.0062]]) cpu\n"
     ]
    },
    {
     "data": {
      "text/plain": [
       "device(type='cuda', index=0)"
      ]
     },
     "execution_count": 15,
     "metadata": {},
     "output_type": "execute_result"
    }
   ],
   "source": [
    "#create a tensor and put it on gpu\n",
    "tensor = torch.rand(2,3)\n",
    "print(tensor, tensor.device)\n",
    "tensor_on_gpu = tensor.to(device)\n",
    "tensor_on_gpu.device"
   ]
  },
  {
   "cell_type": "code",
   "execution_count": 16,
   "id": "a3a652dc-9837-4cfe-be42-292690370ae1",
   "metadata": {},
   "outputs": [
    {
     "data": {
      "text/plain": [
       "device(type='cpu')"
      ]
     },
     "execution_count": 16,
     "metadata": {},
     "output_type": "execute_result"
    }
   ],
   "source": [
    "#move tensor back to cpu\n",
    "tensor_on_cpu = tensor_on_gpu.cpu()\n",
    "tensor_on_cpu.device"
   ]
  }
 ],
 "metadata": {
  "kernelspec": {
   "display_name": "Python 3 (ipykernel)",
   "language": "python",
   "name": "python3"
  },
  "language_info": {
   "codemirror_mode": {
    "name": "ipython",
    "version": 3
   },
   "file_extension": ".py",
   "mimetype": "text/x-python",
   "name": "python",
   "nbconvert_exporter": "python",
   "pygments_lexer": "ipython3",
   "version": "3.8.18"
  }
 },
 "nbformat": 4,
 "nbformat_minor": 5
}
